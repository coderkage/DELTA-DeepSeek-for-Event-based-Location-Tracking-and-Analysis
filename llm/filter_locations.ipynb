{
 "cells": [
  {
   "cell_type": "code",
   "execution_count": 30,
   "id": "cc48da41",
   "metadata": {},
   "outputs": [
    {
     "name": "stdout",
     "output_type": "stream",
     "text": [
      "['Alachua County', 'Alaska', 'Albany', 'Alton', 'Apopka', 'Arkansas', 'Assam', 'Atlanta', 'Augusta', 'Austin', 'Bangladesh', 'Bay County', 'Bell', 'Bend', 'Bentonville', 'Benue State', 'Birmingham', 'Boston', 'Bradenton', 'Brandon', 'Brooklyn', 'Broward County', 'COLUMBIA', 'California', 'Charleston', 'Chicago', 'Chile', 'China', 'Clearwater', 'Clinton', 'Collier County', 'Columbus', 'Coral Springs', 'Crestview', 'Cuba', 'Dade County', 'DeKalb', 'Derry', 'Dominican Republic', 'Duncan', 'Duval County', 'Duval county', 'Englewood', 'Estero', 'FLORIDA', 'FOUNTAIN', 'Florida', 'Fort Lauderdale', 'Fort Myers', 'Franklin', 'Germany', 'Golden', 'Graham', 'HAMILTON', 'HOUSTON', 'Haiti', 'Hampton', 'Harvey', 'Hastings', 'Hawaii', 'Highlands County', 'Hillsborough', 'Hollywood', 'Homestead', 'Houston', 'Idaho', 'Immokalee', 'India', 'Israel', 'Italy', 'Jacksonville', 'Japan', 'Justice', 'Kendall', 'Key West', 'Lakewood Park', 'Largo', 'Lee County', 'Lexington', 'Lincoln', 'Little Rock', 'Marco', 'Marion', 'Martin', 'Mexico', 'Miami', 'Miami Beach', 'Middleburg', 'Minnesota', 'Miramar', 'Mobile', 'Monroe County', 'Moore', 'Moultrie', 'NEPAL', 'Naples', 'Nepal', 'Nevada', 'Nigeria', 'North Carolina', 'North Korea', 'Oakland', 'Oakwood', 'Ocala', 'Orange', 'Orange County', 'Orlando', 'Palm Beach County', 'Palmdale', 'Pasco', 'Patterson', 'Peoria', 'Perry', 'Pinellas County', 'Polk County', 'Ponte Vedra Beach', 'Riverside County', 'Roanoke', 'Rome', 'Russia', 'San Diego', 'Sandy', 'Santa Fe', 'Sarasota', 'Savannah', 'Sebring', 'Sierra Leone', 'South Carolina', 'Suffolk', 'TAMPA', 'Talladega', 'Tallahassee', 'Tampa', 'Tarpon Springs', 'Tokyo', 'Trinity', 'UK', 'Union', 'United States', 'Vermont', 'Virginia', 'Volusia County', 'Washington', 'Wayne', 'Wellington', 'West Park', 'Westerly', 'White House', 'Wisconsin', 'York', 'atlanta', 'citrus', 'dallas', 'florida', 'haiti', 'harvey', 'key west', 'miami', 'mobile', 'norfolk', 'normal', 'opportunity', 'orange', 'paradise', 'paramount', 'sunset', 'surprise', 'tampa', 'worth']\n"
     ]
    }
   ],
   "source": [
    "import pandas as pd\n",
    "\n",
    "# Assuming df is your DataFrame and 'gpe' is the column\n",
    "# Step 1: Flatten all words across the column\n",
    "df = pd.read_csv('./datasets/usa.csv')\n",
    "\n",
    "all_locations = df['gpe'].dropna().astype(str).str.split(',').sum()\n",
    "\n",
    "# Step 2: Strip spaces and get unique values\n",
    "unique_locations = sorted(set(loc.strip() for loc in all_locations))\n",
    "\n",
    "# Step 3: Display the list\n",
    "print(unique_locations)\n"
   ]
  },
  {
   "cell_type": "code",
   "execution_count": 31,
   "id": "b5ba8d36",
   "metadata": {},
   "outputs": [],
   "source": [
    "# Define unwanted entries\n",
    "unwanted = {'citrus', 'mobile', 'norfolk', 'normal', 'opportunity', 'orange', 'paradise', 'paramount', 'sunset', 'surprise', 'worth'}\n",
    "\n",
    "df['gpe'] = df['gpe'].apply(\n",
    "    lambda row: ', '.join(\n",
    "        loc for loc in str(row).split(',') if loc.strip().lower() not in unwanted\n",
    "    )\n",
    ")\n"
   ]
  },
  {
   "cell_type": "code",
   "execution_count": 32,
   "id": "d168a866",
   "metadata": {},
   "outputs": [
    {
     "name": "stdout",
     "output_type": "stream",
     "text": [
      "['', 'Alachua County', 'Alaska', 'Albany', 'Alton', 'Apopka', 'Arkansas', 'Assam', 'Atlanta', 'Augusta', 'Austin', 'Bangladesh', 'Bay County', 'Bell', 'Bend', 'Bentonville', 'Benue State', 'Birmingham', 'Boston', 'Bradenton', 'Brandon', 'Brooklyn', 'Broward County', 'COLUMBIA', 'California', 'Charleston', 'Chicago', 'Chile', 'China', 'Clearwater', 'Clinton', 'Collier County', 'Columbus', 'Coral Springs', 'Crestview', 'Cuba', 'Dade County', 'DeKalb', 'Derry', 'Dominican Republic', 'Duncan', 'Duval County', 'Duval county', 'Englewood', 'Estero', 'FLORIDA', 'FOUNTAIN', 'Florida', 'Fort Lauderdale', 'Fort Myers', 'Franklin', 'Germany', 'Golden', 'Graham', 'HAMILTON', 'HOUSTON', 'Haiti', 'Hampton', 'Harvey', 'Hastings', 'Hawaii', 'Highlands County', 'Hillsborough', 'Hollywood', 'Homestead', 'Houston', 'Idaho', 'Immokalee', 'India', 'Israel', 'Italy', 'Jacksonville', 'Japan', 'Justice', 'Kendall', 'Key West', 'Lakewood Park', 'Largo', 'Lee County', 'Lexington', 'Lincoln', 'Little Rock', 'Marco', 'Marion', 'Martin', 'Mexico', 'Miami', 'Miami Beach', 'Middleburg', 'Minnesota', 'Miramar', 'Monroe County', 'Moore', 'Moultrie', 'NEPAL', 'Naples', 'Nepal', 'Nevada', 'Nigeria', 'North Carolina', 'North Korea', 'Oakland', 'Oakwood', 'Ocala', 'Orange County', 'Orlando', 'Palm Beach County', 'Palmdale', 'Pasco', 'Patterson', 'Peoria', 'Perry', 'Pinellas County', 'Polk County', 'Ponte Vedra Beach', 'Riverside County', 'Roanoke', 'Rome', 'Russia', 'San Diego', 'Sandy', 'Santa Fe', 'Sarasota', 'Savannah', 'Sebring', 'Sierra Leone', 'South Carolina', 'Suffolk', 'TAMPA', 'Talladega', 'Tallahassee', 'Tampa', 'Tarpon Springs', 'Tokyo', 'Trinity', 'UK', 'Union', 'United States', 'Vermont', 'Virginia', 'Volusia County', 'Washington', 'Wayne', 'Wellington', 'West Park', 'Westerly', 'White House', 'Wisconsin', 'York', 'atlanta', 'dallas', 'florida', 'haiti', 'harvey', 'key west', 'miami', 'nan', 'tampa']\n"
     ]
    }
   ],
   "source": [
    "all_locations = df['gpe'].dropna().astype(str).str.split(',').sum()\n",
    "\n",
    "# Step 2: Strip spaces and get unique values\n",
    "unique_locations = sorted(set(loc.strip() for loc in all_locations))\n",
    "\n",
    "# Step 3: Display the list\n",
    "print(unique_locations)"
   ]
  },
  {
   "cell_type": "code",
   "execution_count": 33,
   "id": "50125585",
   "metadata": {},
   "outputs": [],
   "source": [
    "df.to_csv('./datasets/usa.csv', index=False)"
   ]
  },
  {
   "cell_type": "code",
   "execution_count": null,
   "id": "56d4bbd3",
   "metadata": {},
   "outputs": [],
   "source": []
  }
 ],
 "metadata": {
  "kernelspec": {
   "display_name": "Python 3",
   "language": "python",
   "name": "python3"
  },
  "language_info": {
   "codemirror_mode": {
    "name": "ipython",
    "version": 3
   },
   "file_extension": ".py",
   "mimetype": "text/x-python",
   "name": "python",
   "nbconvert_exporter": "python",
   "pygments_lexer": "ipython3",
   "version": "3.12.2"
  }
 },
 "nbformat": 4,
 "nbformat_minor": 5
}
