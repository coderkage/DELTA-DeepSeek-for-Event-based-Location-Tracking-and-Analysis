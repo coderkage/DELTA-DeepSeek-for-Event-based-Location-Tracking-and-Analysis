{
 "cells": [
  {
   "cell_type": "code",
   "execution_count": 1,
   "id": "51131b3f",
   "metadata": {},
   "outputs": [],
   "source": [
    "import pandas as pd"
   ]
  },
  {
   "cell_type": "code",
   "execution_count": 2,
   "id": "bac7fd2b",
   "metadata": {},
   "outputs": [],
   "source": [
    "df = pd.read_csv(\"./datasets/japan_noto.csv\")"
   ]
  },
  {
   "cell_type": "code",
   "execution_count": 3,
   "id": "77cc70ed",
   "metadata": {},
   "outputs": [
    {
     "data": {
      "application/vnd.microsoft.datawrangler.viewer.v0+json": {
       "columns": [
        {
         "name": "index",
         "rawType": "int64",
         "type": "integer"
        },
        {
         "name": "text",
         "rawType": "object",
         "type": "string"
        },
        {
         "name": "disaster",
         "rawType": "object",
         "type": "unknown"
        },
        {
         "name": "gpe",
         "rawType": "object",
         "type": "unknown"
        },
        {
         "name": "detected_gpe",
         "rawType": "object",
         "type": "string"
        },
        {
         "name": "response_time",
         "rawType": "float64",
         "type": "float"
        },
        {
         "name": "query_tokens",
         "rawType": "int64",
         "type": "integer"
        },
        {
         "name": "response_tokens",
         "rawType": "int64",
         "type": "integer"
        }
       ],
       "conversionMethod": "pd.DataFrame",
       "ref": "7b3282c2-a4b1-4ab3-bb2a-b4de145389b8",
       "rows": [
        [
         "0",
         "Major Tsunami Warning 1 1, 4 22pm The Tsunami Warning has been upgraded to a Major Tsunami Warning. Waves of up to 5m are expected. Those near coastal areas, rivers, or lakes should evacuate to higher ground immediately. tsunami ",
         "tsunami, ground, Warning, Tsunami, Warning, Tsunami, Warning, Tsunami",
         null,
         "\"1 Coastal areas, 2 Rivers, 3 Lakes, 4 tsunami.\"",
         "6.0752",
         "86",
         "17"
        ],
        [
         "1",
         "According to mathematical and tectonophysical modeling, at the end of 2024 we will enter the active phase of the 24, 000 year catastrophe cycle, i. e. a new volcanic epoch characterized by the widespread rise of magma and erosion of lithospheric plates by magmatic flows earthquake ",
         "earthquake",
         null,
         "v Volcanic Epoch",
         "4.7211",
         "92",
         "5"
        ],
        [
         "2",
         "Earlier video showing smaller wave caused by the earthquake off the coast of the Noto Peninsula in western Japan traveling up the Seki River in Joetsu City, Niigata Prefecture. Tsunami warnings still in place! ",
         "Tsunami, earthquake",
         "Niigata Prefecture, Joetsu, Seki, Japan, Noto Peninsula",
         "Joetsu City, Niigata Prefecture, Noto Peninsula",
         "6.9786",
         "76",
         "14"
        ],
        [
         "3",
         "Tsunami Advisory 8 8, 4 44pm A Tsunami Advisory has been issued. Waves of up to 1m are expected. Those near coastal areas, rivers, or lakes should evacuate to higher ground immediately. tsunami ",
         "tsunami, ground, Tsunami, Tsunami",
         null,
         "8 4",
         "8.008",
         "80",
         "3"
        ],
        [
         "4",
         "UNCONFIRMED video of considerable damage in Noto, Japan following a 7.5 magnitude earthquake striking 36 km northeast of Anamizu, Japan. . . . . Credit to the original uploader ",
         "earthquake, magnitude, damage",
         "Japan, Anamizu, Japan, Noto",
         "Noto, Japan, Anamizu, Japan",
         "4.166",
         "73",
         "10"
        ],
        [
         "5",
         "Earthquakes in the Noto peninsula, Japan, before and after January 1, 2024 toki toki 2LC ",
         null,
         "toki, toki, Japan, Noto peninsula",
         "Noto, Japan, 2024",
         "4.8703",
         "59",
         "8"
        ],
        [
         "6",
         "ITALY records strongest earthquake in 40 years! Even larger Earthquakes could be expected and a worst case scenario of a volcanic Eruption of the Super Volcano Campi Flegrei near Naples in southern Italy. HOMES Damaged and people being Evacuated because of the Earthquake ",
         "Earthquake, Volcano, Eruption, earthquake",
         "Italy, ITALY",
         "ITALY NAPLES CAMPI FLEGRE",
         "5.2467",
         "91",
         "10"
        ],
        [
         "7",
         "The Major Tsunami Warning has been downgraded to a Tsunami Warning. Downgraded from Major Tsunami Warning to Tsunami Warning Noto Peninsula of Ishikawa Prefecture Do not return home until all tsunami warnings advisories have been lifted. japan tsunami ",
         "tsunami, tsunami, Warning, Tsunami, Warning, Tsunami, Warning, Tsunami, Warning, Tsunami",
         "japan, Ishikawa Prefecture, Noto Peninsula",
         "Major Tsunami Warning, Tsunami Warning, Tono Peninsula of Ishikawa Prefecture",
         "12.0195",
         "82",
         "18"
        ],
        [
         "8",
         "Tsunami Warning 1 1, 4 12pm A Tsunami Warning has been issued. Waves of up to 3m are expected. Those near coastal areas, rivers, or lakes should evacuate to higher ground immediately. tsunami ",
         "tsunami, ground, Warning, Tsunami, Warning, Tsunami",
         null,
         "coastal areas, rivers, lakes",
         "7.3458",
         "80",
         "8"
        ],
        [
         "9",
         "Earthquake Detailed Report 1 1 At around 4 10pm, an earthquake with a magnitude of 7.4 occurred near Noto, Ishikawa Prefecture at a very shallow depth. The maximum intensity was 7. Tsunami warnings advisories have been issued. earthquake ",
         "earthquake, Tsunami, intensity, depth, shallow, magnitude, earthquake, Earthquake",
         "Ishikawa Prefecture, Noto",
         "38°30'W, 1°54'N, 10pm, Noto",
         "7.2614",
         "90",
         "19"
        ],
        [
         "10",
         "Earthquake Detailed Report 1 1 At around 4 10pm, an earthquake with a magnitude of 7.6 occurred near Noto, Ishikawa Prefecture at a very shallow depth. The maximum intensity was 7. Tsunami warnings advisories have been issued. earthquake ",
         "earthquake, Tsunami, intensity, depth, shallow, magnitude, earthquake, Earthquake",
         "Ishikawa Prefecture, Noto",
         "Noto, Ishikawa Prefecture",
         "3.4842",
         "90",
         "8"
        ],
        [
         "11",
         "The 2024 magnitude 7.5 Noto earthquake in Japan occurred on a fault system that has seen repeated seismic swarms since 2020. New research in Science deciphers the intense ground motion of the event. Learn more in this week s issue ",
         "ground, intense, seismic, fault, earthquake, magnitude",
         "Japan, Noto",
         "Noto",
         "7.8221",
         "83",
         "2"
        ],
        [
         "12",
         "Tsunami Advisory 1 2, 7 30am The Tsunami Advisory has been updated. Waves of up to 1m are expected. Those near coastal areas, rivers, or lakes should evacuate to higher ground immediately. tsunami ",
         "tsunami, ground, Tsunami, Tsunami",
         null,
         "Tsunami Advisory 1, Tsunami Advisory 2, coastal areas, rivers, and lakes",
         "4.9876",
         "80",
         "20"
        ],
        [
         "13",
         "The aftershock pattern in purple suggests that the M7.5 Noto earthquake ruptured bilaterally, with the preliminary NEIC slip model also indicating slip on both sides of the epicenter ",
         "epicenter, earthquake, aftershock",
         "Noto",
         "Noto",
         "5.9727",
         "71",
         "2"
        ],
        [
         "14",
         "Major earthquake off Noto Pensinsula Japan, emergency alert on phone and very noticeable shaking here in central Nagano. Preliminary M7.4 with Shindo 7 shaking, this is a major event ",
         "shaking, shaking, alert, emergency, earthquake",
         "Shindo, Nagano, Japan, Noto",
         "Noto Pensinsula, Nagano prefecture, central Nagano",
         "6.1131",
         "72",
         "13"
        ],
        [
         "15",
         "EARTHQUAKES PLATE MOVEMENTS COMPRESSING PACIFIC SOUTH AMERICA ROLL INDO AUSTRALIA TILTING Comment by Kojima 1 hour ago IRIS EQ Map 2024 10 2 T00 03 New Madrid Jolt timeline Earth Changes and the Pole Shift ",
         "PLATE",
         "AUSTRALIA",
         "pacificsouthamerica,inado,tilting",
         "8.3184",
         "95",
         "10"
        ],
        [
         "16",
         "GRL Nearshore Propagation and Amplification of the Tsunami Following the 2024 Noto Peninsula Earthquake, Japan ",
         "Earthquake, Tsunami",
         "Japan, Noto Peninsula",
         "Noto Peninsula, Japan, and the 2024 Noto Peninsula Earthquake",
         "6.8547",
         "56",
         "16"
        ],
        [
         "17",
         "The strongest earthquake in the area since 1885, the Noto Peninsula earthquake on January 1, 2024, recorded magnitude of 7.6 has caused significant damage and a tsunami. It was a cruel start of the year for the families living in the affected area . We Astar Foundation and ",
         "tsunami, damage, magnitude, earthquake, earthquake",
         "Noto Peninsula",
         "The strongest earthquake in the area since 1885 is the earthquake on January 1, 2024. It was a cruel start of the year for the families living in the affected area. Noto Peninsula earthquake caused significant damage and a tsunami. The locations mentioned are: 1885, Noto, January 1, 2024, and the affected area.",
         "12.1338",
         "93",
         "75"
        ],
        [
         "18",
         "Tsunami Advisory 1 2, 2 30am The Tsunami Advisory has been updated. Waves of up to 1m are expected. Those near coastal areas, rivers, or lakes should evacuate to higher ground immediately. tsunami ",
         "tsunami, ground, Tsunami, Tsunami",
         null,
         "Coastal areas, rivers, lakes",
         "6.1321",
         "80",
         "8"
        ],
        [
         "19",
         "Earthquake Information 16 10 JST on 01 Jan 2024, Seismic intensity 7 at Noto, Ishikawa Prefecture. Epicenter Noto, Ishikawa Prefecture, depth very shallow, estimated magnitude 7.6. Tsunami warning has been issued. ",
         "warning, Tsunami, magnitude, shallow, depth, Epicenter, intensity, Seismic, Earthquake",
         "Ishikawa Prefecture, Noto, Ishikawa Prefecture, Noto",
         "Noto, Ishikawa Prefecture, JapanPrefecture",
         "12.1743",
         "92",
         "12"
        ],
        [
         "20",
         "Tsunami Advisory 1 2, 1 15am The Tsunami Warning has been downgraded to a Tsunami Advisory. Waves of up to 1m are expected. Those near coastal areas, rivers, or lakes should evacuate to higher ground immediately. tsunami ",
         "tsunami, ground, Tsunami, Warning, Tsunami, Tsunami",
         null,
         "1, 2",
         "5.2036",
         "86",
         "4"
        ],
        [
         "21",
         "Tsunami Warning 4 3, 9 01am A Tsunami Warning has been issued. Waves of up to 3m are expected. Those near coastal areas, rivers, or lakes should evacuate to higher ground immediately. tsunami ",
         "tsunami, ground, Warning, Tsunami, Warning, Tsunami",
         null,
         "4, 3, coastal areas, rivers, lakes",
         "8.6718",
         "80",
         "11"
        ],
        [
         "22",
         "Major Tsunami Warning Currently, a major tsunami warning is issued for Noto Area, Ishikawa Prefecture. View estimated arrival times and heights here JMA website ",
         "warning, tsunami, Warning, Tsunami",
         "Ishikawa Prefecture, Noto",
         "Japan, Noto, Ishikawa Prefecture",
         "3.2529",
         "64",
         "10"
        ],
        [
         "23",
         "Earthquake Information 06 31 JST on 03 Jun 2024, Seismic intensity 5 at Noto, Ishikawa Prefecture. Epicenter Noto, Ishikawa Prefecture, depth 10km, estimated magnitude 5.9. ",
         "magnitude, depth, Epicenter, intensity, Seismic, Earthquake",
         "Ishikawa Prefecture, Noto, Ishikawa Prefecture, Noto",
         "Noto, Ishikawa Prefecture",
         "5.6183",
         "86",
         "8"
        ],
        [
         "24",
         "Earthquake Information 16 56 JST on 01 Jan 2024, Seismic intensity 5 at Noto, Ishikawa Prefecture. Epicenter Noto, Ishikawa Prefecture, depth 20km, estimated magnitude 5.7. Tsunami warning has been issued. ",
         "warning, Tsunami, magnitude, depth, Epicenter, intensity, Seismic, Earthquake",
         "Ishikawa Prefecture, Noto, Ishikawa Prefecture, Noto",
         "JST, Noto, and Ishikawa Prefecture.",
         "5.5749",
         "93",
         "13"
        ],
        [
         "25",
         "Earthquake Information 16 10 JST on 01 Jan 2024, Seismic intensity 7 at Noto, Ishikawa Prefecture. Epicenter Noto, Ishikawa Prefecture, depth very shallow, estimated magnitude 7.4. Tsunami warning has been issued. ",
         "warning, Tsunami, magnitude, shallow, depth, Epicenter, intensity, Seismic, Earthquake",
         "Ishikawa Prefecture, Noto, Ishikawa Prefecture, Noto",
         "Noto, Ishikawa Prefecture",
         "7.5922",
         "92",
         "8"
        ],
        [
         "26",
         "The earthquake that struck Japan s Noto peninsula on Monday was so strong that the coastline has moved up to 250 meters offshore due to significant land uplift. ",
         "strong, earthquake",
         "Noto peninsula, Japan",
         "Japan, Noto",
         "3.4035",
         "62",
         "4"
        ],
        [
         "27",
         "This is the current frequency of earthquakes. help me. too scary. It s always been like this. Both my little sister and the dog are crying. Neither my parents nor I can sleep. what will happen to us? History Occurrence time January 3, 2024, 2 30 Epicenter Noto region, ",
         "Epicenter",
         "Noto",
         "Noto region",
         "5.2273",
         "98",
         "3"
        ],
        [
         "28",
         "This is a video of the tsunami caused by the earthquake off the coast of the Noto Peninsula that occurred on January 1, 2024, traveling up the Seki River in Joetsu City, Niigata Prefecture. Photographed from the second floor of my home. ",
         "earthquake, tsunami",
         "Niigata Prefecture, Joetsu, Seki, Noto Peninsula",
         "Noto Peninsula, Seki River, Joetsu City",
         "4.4327",
         "89",
         "12"
        ],
        [
         "29",
         "Over eight months have passed since the massive earthquake that rocked the Noto Peninsula on Jan. 1, 2024. Communication in time of disaster Lessons from the NotoPeninsulaEarthquake. recovery ",
         "disaster, earthquake, massive",
         "Noto Peninsula",
         "The sentence mentions two locations: Noto Peninsula and NotoPeninsula., Answer: Noto Peninsula, NotoPeninsula",
         "6.5089",
         "72",
         "25"
        ],
        [
         "30",
         "Earthquake Detailed Report 10 6 At around 6 21am, an earthquake with a magnitude of 2.4 occurred near Noto, Ishikawa Prefecture at a depth of 10km. The maximum intensity was 2. There is no threat of a tsunami. earthquake ",
         "earthquake, tsunami, intensity, depth, magnitude, earthquake, Earthquake",
         "Ishikawa Prefecture, Noto",
         "Noto, Ishikawa Prefecture",
         "5.0486",
         "91",
         "8"
        ],
        [
         "31",
         "Earthquake Early Warning A large earthquake has occurred near Noto, Ishikawa Prefecture. Prepare for strong shaking in the areas of Ishikawa. earthquake ",
         "earthquake, shaking, strong, earthquake, Warning, Earthquake",
         "Ishikawa, Ishikawa Prefecture, Noto",
         "Noto, Ishikawa Prefecture",
         "6.2634",
         "63",
         "8"
        ],
        [
         "32",
         "Japan s ALOS 2 satellite showed clearly where on the Noto Peninsula the greatest uplift had occurred during Monday s M7.6 quake. Researchers have now visited this area to document the major coastal movements, including at Kaiso port. H T timwright leeds ",
         null,
         "Kaiso, Noto Peninsula, Japan",
         "Noto Peninsula, Kaiso Port",
         "3.7832",
         "86",
         "8"
        ],
        [
         "33",
         "New data collected by the Geospatial Information Authority of Japan reveals that approx. 90 km of the northern Noto Peninsula coastline has shifted offshore, exposing around 4 sq. km. of previously submerged land, following the Jan. 1st M7.6 earthquake. A short thread. ",
         "earthquake",
         "Noto Peninsula, Japan",
         "Noto Peninsula, 90 km, 4 sq. km",
         "6.064",
         "91",
         "13"
        ],
        [
         "34",
         "Observed uplift L Before earthquake, R After earthquake at Wajima Fishing Port 30km from the epicentre of the M7.6 earthquake at Noto Peninsula Japan; The Geospatial Information Authority of Japan now estimate this site experienced up to 4m of uplift ",
         "earthquake, earthquake, earthquake",
         "Japan, Japan, Noto Peninsula, Wajima",
         "Noto Peninsula Japan, Wajima Fishing Port",
         "9.2032",
         "87",
         "10"
        ],
        [
         "35",
         "In Noto, fears rain will thwart recovery efforts 9 months after quake ",
         "efforts",
         "Noto",
         "Noto",
         "7.8874",
         "46",
         "2"
        ],
        [
         "36",
         "Expert Quake damage led to mudslides from Noto heavy rain The Asahi Shimbun Asia Japan Watch ",
         "damage",
         "Japan, Asahi, Noto",
         "Noto, Japan",
         "6.4315",
         "53",
         "4"
        ],
        [
         "37",
         "Japan issues a tsunami warning for its almost all of its western coast after a powerful earthquake with a magnitude 7.6 hit off the Noto Peninsula about 300 km from Tokyo on Monday ",
         "magnitude, earthquake, powerful, warning, tsunami",
         "Tokyo, Noto Peninsula, Japan",
         "Japan, its western coast, the Noto Peninsula",
         "3.7301",
         "69",
         "10"
        ],
        [
         "38",
         "Our hearts go out to residents of Japan s Noto Peninsula, hit by strong shaking from a shallow 10 km depth M7.5 along Japan s west coast. Subduction zone quakes can reach M9 but large shallow crustal quakes can also generate severe local shaking. ",
         "shaking, shallow, depth, shallow, shaking, strong",
         "Japan, Noto Peninsula, Japan",
         "Japan s Noto Peninsula, Japan s west coast",
         "5.6943",
         "88",
         "10"
        ],
        [
         "39",
         "Japan downgrades Major Tsunami Warning to a Tsunami Warning for the Noto region ",
         "Warning, Tsunami, Warning, Tsunami",
         "Noto, Japan",
         "Major Tsunami Warning, downgrades, Noto region",
         "6.5693",
         "48",
         "11"
        ],
        [
         "40",
         "An extremely sad clip from ANN s coverage of the Noto Earthquake this man s wife was on the first floor of his house when it collapsed. He called for help but was told there isn t enough rescue equipment and he s basically on a waiting list. ",
         "rescue, Earthquake",
         "Noto",
         "Noto",
         "4.8436",
         "83",
         "2"
        ],
        [
         "41",
         "SEGA and Atlus announce they have donated 20 million yen about 135, 000 to support the Noto Peninsula Earthquake relief and recovery efforts. They will also match employee donations. ",
         "efforts, relief, Earthquake, support",
         "Noto Peninsula",
         "SEGA, Atlus, 20 million yen, 135,000, Noto Peninsula.",
         "4.9928",
         "70",
         "20"
        ],
        [
         "42",
         "Video Japan Ground Self Defense Force vehicles are arriving at the Noto Peninsula to begin their earthquake relief mission. The yellow banners on each vehicle indicate the home base of the units that have been deployed. ",
         "relief, earthquake, Ground",
         "Noto Peninsula, Japan",
         "Noto Peninsula",
         "4.6014",
         "70",
         "3"
        ],
        [
         "43",
         "Video Yamamura Takehiko, head of the Disaster Prevention System Institute, said he was shocked angered by how Japanese authorities haven t done much to repair roads 5 days after the Noto Peninsula Earthquake. He s never seen anything like it before. ",
         "Earthquake, Disaster",
         "Noto Peninsula, Yamamura",
         "Takehiko Yamamura, head of the Disaster Prevention System Institute, stated that he was shocked and angry over how Japanese authorities had not actively repaired Noto Peninsula Road after the Noto Peninsula Earthquake.",
         "3.0941",
         "82",
         "41"
        ],
        [
         "44",
         "Thread TBS aired a report yesterday about the earthquake relief in the Noto Peninsula A veteran rescue worker from ARROWS was surprised at the very slow response from the Japanese government. Normally supplies and personnel arrive sooner. ",
         "rescue, relief, earthquake",
         "Noto Peninsula",
         "Noto Peninsula, ARROWS, Japan",
         "3.9153",
         "73",
         "8"
        ],
        [
         "45",
         "It s snowing in Wajima and other areas of the earthquake hit Noto Peninsula today. This will probably further complicate the attempts to bring food water to evacuees. ",
         "earthquake",
         "Noto Peninsula, Wajima",
         "Wajima, Noto Peninsula",
         "3.0698",
         "68",
         "7"
        ],
        [
         "46",
         "A clip from Asahi TV shows that a lot of relief supplies are accumulating in Kanazawa, but they ve hit a bottleneck because the earthquake has inflicted heavy damage on the Noto Peninsula s roads. Trucks can t reach some of the worst hit areas. ",
         "damage, earthquake, relief",
         "Noto Peninsula, Kanazawa, Asahi",
         "Kanazawa, Noto Peninsula",
         "2.9378",
         "83",
         "8"
        ],
        [
         "47",
         "Video Scenes of destruction uploaded by a resident of Suzu, a town on the Noto Peninsula, where an estimated 90 of houses were destroyed by Monday s earthquake. ",
         "earthquake, destroyed",
         "Noto Peninsula, Suzu",
         "Suzu, Noto Peninsula",
         "4.291",
         "65",
         "6"
        ],
        [
         "48",
         "This video shows what the roads are like on the Noto Peninsula after Monday s earthquake in Japan. The uploader says this was recorded near Anamizu City. ",
         "earthquake",
         "Anamizu, Japan, Noto Peninsula",
         "Noto Peninsula, Anamizu City",
         "3.744",
         "63",
         "8"
        ],
        [
         "49",
         "NHK has shared scenes of earthquake damage in the Noto Peninsula. One man seems to be living in his truck with his dog because evacuation centers don t allow pets. ",
         "evacuation, damage, earthquake",
         "Noto Peninsula",
         "Noto Peninsula",
         "10.0793",
         "65",
         "3"
        ]
       ],
       "shape": {
        "columns": 7,
        "rows": 686
       }
      },
      "text/html": [
       "<div>\n",
       "<style scoped>\n",
       "    .dataframe tbody tr th:only-of-type {\n",
       "        vertical-align: middle;\n",
       "    }\n",
       "\n",
       "    .dataframe tbody tr th {\n",
       "        vertical-align: top;\n",
       "    }\n",
       "\n",
       "    .dataframe thead th {\n",
       "        text-align: right;\n",
       "    }\n",
       "</style>\n",
       "<table border=\"1\" class=\"dataframe\">\n",
       "  <thead>\n",
       "    <tr style=\"text-align: right;\">\n",
       "      <th></th>\n",
       "      <th>text</th>\n",
       "      <th>disaster</th>\n",
       "      <th>gpe</th>\n",
       "      <th>detected_gpe</th>\n",
       "      <th>response_time</th>\n",
       "      <th>query_tokens</th>\n",
       "      <th>response_tokens</th>\n",
       "    </tr>\n",
       "  </thead>\n",
       "  <tbody>\n",
       "    <tr>\n",
       "      <th>0</th>\n",
       "      <td>Major Tsunami Warning 1 1, 4 22pm The Tsunami ...</td>\n",
       "      <td>tsunami, ground, Warning, Tsunami, Warning, Ts...</td>\n",
       "      <td>NaN</td>\n",
       "      <td>\"1 Coastal areas, 2 Rivers, 3 Lakes, 4 tsunami.\"</td>\n",
       "      <td>6.0752</td>\n",
       "      <td>86</td>\n",
       "      <td>17</td>\n",
       "    </tr>\n",
       "    <tr>\n",
       "      <th>1</th>\n",
       "      <td>According to mathematical and tectonophysical ...</td>\n",
       "      <td>earthquake</td>\n",
       "      <td>NaN</td>\n",
       "      <td>v Volcanic Epoch</td>\n",
       "      <td>4.7211</td>\n",
       "      <td>92</td>\n",
       "      <td>5</td>\n",
       "    </tr>\n",
       "    <tr>\n",
       "      <th>2</th>\n",
       "      <td>Earlier video showing smaller wave caused by t...</td>\n",
       "      <td>Tsunami, earthquake</td>\n",
       "      <td>Niigata Prefecture, Joetsu, Seki, Japan, Noto ...</td>\n",
       "      <td>Joetsu City, Niigata Prefecture, Noto Peninsula</td>\n",
       "      <td>6.9786</td>\n",
       "      <td>76</td>\n",
       "      <td>14</td>\n",
       "    </tr>\n",
       "    <tr>\n",
       "      <th>3</th>\n",
       "      <td>Tsunami Advisory 8 8, 4 44pm A Tsunami Advisor...</td>\n",
       "      <td>tsunami, ground, Tsunami, Tsunami</td>\n",
       "      <td>NaN</td>\n",
       "      <td>8 4</td>\n",
       "      <td>8.0080</td>\n",
       "      <td>80</td>\n",
       "      <td>3</td>\n",
       "    </tr>\n",
       "    <tr>\n",
       "      <th>4</th>\n",
       "      <td>UNCONFIRMED video of considerable damage in No...</td>\n",
       "      <td>earthquake, magnitude, damage</td>\n",
       "      <td>Japan, Anamizu, Japan, Noto</td>\n",
       "      <td>Noto, Japan, Anamizu, Japan</td>\n",
       "      <td>4.1660</td>\n",
       "      <td>73</td>\n",
       "      <td>10</td>\n",
       "    </tr>\n",
       "    <tr>\n",
       "      <th>...</th>\n",
       "      <td>...</td>\n",
       "      <td>...</td>\n",
       "      <td>...</td>\n",
       "      <td>...</td>\n",
       "      <td>...</td>\n",
       "      <td>...</td>\n",
       "      <td>...</td>\n",
       "    </tr>\n",
       "    <tr>\n",
       "      <th>681</th>\n",
       "      <td>The 7.6 magnitude quake, which struck the Noto...</td>\n",
       "      <td>magnitude</td>\n",
       "      <td>Ishikawa prefecture, Noto Peninsula</td>\n",
       "      <td>Noto Prefecture, Ishikawa prefecture</td>\n",
       "      <td>15.7392</td>\n",
       "      <td>76</td>\n",
       "      <td>10</td>\n",
       "    </tr>\n",
       "    <tr>\n",
       "      <th>682</th>\n",
       "      <td>A portion of the sales of nottestellata2024 of...</td>\n",
       "      <td>Earthquake, Earthquake</td>\n",
       "      <td>Japan, Noto Peninsula</td>\n",
       "      <td>Noto Peninsula Earthquake, Miyagi Children's E...</td>\n",
       "      <td>6.6286</td>\n",
       "      <td>84</td>\n",
       "      <td>12</td>\n",
       "    </tr>\n",
       "    <tr>\n",
       "      <th>683</th>\n",
       "      <td>People are returning to their damaged houses t...</td>\n",
       "      <td>rescue, collapse</td>\n",
       "      <td>NaN</td>\n",
       "      <td>country, country</td>\n",
       "      <td>5.2317</td>\n",
       "      <td>55</td>\n",
       "      <td>3</td>\n",
       "    </tr>\n",
       "    <tr>\n",
       "      <th>684</th>\n",
       "      <td>Supporting Recovery for the Noto Peninsula Thi...</td>\n",
       "      <td>disaster, earthquake</td>\n",
       "      <td>Noto Peninsula, Noto Peninsula</td>\n",
       "      <td>Noto Peninsula</td>\n",
       "      <td>4.7731</td>\n",
       "      <td>86</td>\n",
       "      <td>3</td>\n",
       "    </tr>\n",
       "    <tr>\n",
       "      <th>685</th>\n",
       "      <td>Japan s NotoEarthquake thousands of survivors ...</td>\n",
       "      <td>NaN</td>\n",
       "      <td>Japan</td>\n",
       "      <td>Japan, Noto Earthquake</td>\n",
       "      <td>3.5198</td>\n",
       "      <td>46</td>\n",
       "      <td>6</td>\n",
       "    </tr>\n",
       "  </tbody>\n",
       "</table>\n",
       "<p>686 rows × 7 columns</p>\n",
       "</div>"
      ],
      "text/plain": [
       "                                                  text  \\\n",
       "0    Major Tsunami Warning 1 1, 4 22pm The Tsunami ...   \n",
       "1    According to mathematical and tectonophysical ...   \n",
       "2    Earlier video showing smaller wave caused by t...   \n",
       "3    Tsunami Advisory 8 8, 4 44pm A Tsunami Advisor...   \n",
       "4    UNCONFIRMED video of considerable damage in No...   \n",
       "..                                                 ...   \n",
       "681  The 7.6 magnitude quake, which struck the Noto...   \n",
       "682  A portion of the sales of nottestellata2024 of...   \n",
       "683  People are returning to their damaged houses t...   \n",
       "684  Supporting Recovery for the Noto Peninsula Thi...   \n",
       "685  Japan s NotoEarthquake thousands of survivors ...   \n",
       "\n",
       "                                              disaster  \\\n",
       "0    tsunami, ground, Warning, Tsunami, Warning, Ts...   \n",
       "1                                           earthquake   \n",
       "2                                  Tsunami, earthquake   \n",
       "3                    tsunami, ground, Tsunami, Tsunami   \n",
       "4                        earthquake, magnitude, damage   \n",
       "..                                                 ...   \n",
       "681                                          magnitude   \n",
       "682                             Earthquake, Earthquake   \n",
       "683                                   rescue, collapse   \n",
       "684                               disaster, earthquake   \n",
       "685                                                NaN   \n",
       "\n",
       "                                                   gpe  \\\n",
       "0                                                  NaN   \n",
       "1                                                  NaN   \n",
       "2    Niigata Prefecture, Joetsu, Seki, Japan, Noto ...   \n",
       "3                                                  NaN   \n",
       "4                          Japan, Anamizu, Japan, Noto   \n",
       "..                                                 ...   \n",
       "681                Ishikawa prefecture, Noto Peninsula   \n",
       "682                              Japan, Noto Peninsula   \n",
       "683                                                NaN   \n",
       "684                     Noto Peninsula, Noto Peninsula   \n",
       "685                                              Japan   \n",
       "\n",
       "                                          detected_gpe  response_time  \\\n",
       "0     \"1 Coastal areas, 2 Rivers, 3 Lakes, 4 tsunami.\"         6.0752   \n",
       "1                                     v Volcanic Epoch         4.7211   \n",
       "2      Joetsu City, Niigata Prefecture, Noto Peninsula         6.9786   \n",
       "3                                                  8 4         8.0080   \n",
       "4                          Noto, Japan, Anamizu, Japan         4.1660   \n",
       "..                                                 ...            ...   \n",
       "681               Noto Prefecture, Ishikawa prefecture        15.7392   \n",
       "682  Noto Peninsula Earthquake, Miyagi Children's E...         6.6286   \n",
       "683                                   country, country         5.2317   \n",
       "684                                     Noto Peninsula         4.7731   \n",
       "685                             Japan, Noto Earthquake         3.5198   \n",
       "\n",
       "     query_tokens  response_tokens  \n",
       "0              86               17  \n",
       "1              92                5  \n",
       "2              76               14  \n",
       "3              80                3  \n",
       "4              73               10  \n",
       "..            ...              ...  \n",
       "681            76               10  \n",
       "682            84               12  \n",
       "683            55                3  \n",
       "684            86                3  \n",
       "685            46                6  \n",
       "\n",
       "[686 rows x 7 columns]"
      ]
     },
     "execution_count": 3,
     "metadata": {},
     "output_type": "execute_result"
    }
   ],
   "source": [
    "df"
   ]
  },
  {
   "cell_type": "code",
   "execution_count": 4,
   "id": "b37d8221",
   "metadata": {},
   "outputs": [],
   "source": [
    "all_locations = df['detected_gpe'].str.split(', ').explode()\n",
    "\n",
    "# Step 2: Remove leading/trailing spaces (in case some entries are messy)\n",
    "all_locations = all_locations.str.strip()\n"
   ]
  },
  {
   "cell_type": "code",
   "execution_count": 5,
   "id": "46f8e1df",
   "metadata": {},
   "outputs": [
    {
     "data": {
      "text/plain": [
       "0      \"1 Coastal areas\n",
       "0              2 Rivers\n",
       "0               3 Lakes\n",
       "0           4 tsunami.\"\n",
       "1      v Volcanic Epoch\n",
       "             ...       \n",
       "683             country\n",
       "683             country\n",
       "684      Noto Peninsula\n",
       "685               Japan\n",
       "685     Noto Earthquake\n",
       "Name: detected_gpe, Length: 1836, dtype: object"
      ]
     },
     "execution_count": 5,
     "metadata": {},
     "output_type": "execute_result"
    }
   ],
   "source": [
    "all_locations"
   ]
  },
  {
   "cell_type": "code",
   "execution_count": 6,
   "id": "191dd4b1",
   "metadata": {},
   "outputs": [
    {
     "name": "stderr",
     "output_type": "stream",
     "text": [
      "Matching locations: 100%|██████████| 797/797 [00:00<00:00, 1272.53it/s]\n"
     ]
    }
   ],
   "source": [
    "from collections import Counter\n",
    "from tqdm import tqdm\n",
    "import folium\n",
    "\n",
    "# input_jsonl = \"../datasets/test/5xjp.jsonl\" \n",
    "# with open(input_jsonl, 'r') as f:\n",
    "#     data = [json.loads(line) for line in f]\n",
    "\n",
    "# locations = []\n",
    "# for entry in data:\n",
    "#     text = entry[0]\n",
    "#     doc = nlp(text) \n",
    "#     for ent in doc.ents:\n",
    "#         if ent.label_ == \"GPE\": \n",
    "#             locations.append(ent.text.strip())\n",
    "\n",
    "locations_normalized = [loc.lower() for loc in all_locations]\n",
    "locations_count = Counter(locations_normalized)\n",
    "\n",
    "reference_csv = \"./datasets/coordinates.csv\"  \n",
    "reference_df = pd.read_csv(reference_csv)\n",
    "\n",
    "geocoded_data = []\n",
    "for location, count in tqdm(locations_count.items(), desc=\"Matching locations\"):\n",
    "    match = reference_df[reference_df['location'].str.lower() == location]\n",
    "    if not match.empty:\n",
    "        geocoded_data.append({\n",
    "            \"location\": location,\n",
    "            \"latitude\": match.iloc[0]['latitude'],\n",
    "            \"longitude\": match.iloc[0]['longitude'],\n",
    "            \"frequency\": count\n",
    "        })\n",
    "\n",
    "geocoded_df = pd.DataFrame(geocoded_data)\n",
    "\n",
    "geocoded_df = geocoded_df.drop_duplicates()"
   ]
  },
  {
   "cell_type": "code",
   "execution_count": 7,
   "id": "b84c1bff",
   "metadata": {},
   "outputs": [
    {
     "name": "stdout",
     "output_type": "stream",
     "text": [
      "Map saved to ./maps/deepseek_japan.html\n"
     ]
    }
   ],
   "source": [
    "if not geocoded_df.empty:\n",
    "    avg_lat = geocoded_df['latitude'].mean()\n",
    "    avg_lon = geocoded_df['longitude'].mean()\n",
    "    location_map = folium.Map(location=[avg_lat, avg_lon], zoom_start=5)\n",
    "\n",
    "    for _, row in geocoded_df.iterrows():\n",
    "        marker_size = row['frequency']  \n",
    "        color_intensity = min(int(row['frequency'] * 10), 255)  \n",
    "        marker_color = f'#{255:02x}{255 - color_intensity:02x}{0:02x}'\n",
    "\n",
    "        folium.CircleMarker(\n",
    "            location=[row['latitude'], row['longitude']], \n",
    "            radius=max(5, marker_size/20)+5, \n",
    "            popup=f\"{row['location']} - Frequency: {row['frequency']}\",\n",
    "            color=marker_color,  \n",
    "            fill=True,\n",
    "            fill_color=marker_color,\n",
    "            fill_opacity=0.7\n",
    "        ).add_to(location_map)\n",
    "\n",
    "    output_html = \"./maps/deepseek_japan.html\"  \n",
    "    location_map.save(output_html)\n",
    "    print(f\"Map saved to {output_html}\")\n",
    "else:\n",
    "    print(\"No valid locations to plot.\")\n"
   ]
  },
  {
   "cell_type": "code",
   "execution_count": null,
   "id": "529a33bc",
   "metadata": {},
   "outputs": [],
   "source": []
  }
 ],
 "metadata": {
  "kernelspec": {
   "display_name": "Python 3",
   "language": "python",
   "name": "python3"
  },
  "language_info": {
   "codemirror_mode": {
    "name": "ipython",
    "version": 3
   },
   "file_extension": ".py",
   "mimetype": "text/x-python",
   "name": "python",
   "nbconvert_exporter": "python",
   "pygments_lexer": "ipython3",
   "version": "3.12.2"
  }
 },
 "nbformat": 4,
 "nbformat_minor": 5
}
